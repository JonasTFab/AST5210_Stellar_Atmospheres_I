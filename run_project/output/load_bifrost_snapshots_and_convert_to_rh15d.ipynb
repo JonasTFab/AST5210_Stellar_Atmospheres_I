{
 "cells": [
  {
   "cell_type": "markdown",
   "metadata": {},
   "source": [
    "# Loading Bifrost data to RH 1.5D\n",
    "\n",
    "Script for understanding the Bifrost data as well as converting it to RH 1.5D atmosphere (.hdf5 files)."
   ]
  },
  {
   "cell_type": "code",
   "execution_count": 1,
   "metadata": {},
   "outputs": [
    {
     "name": "stdout",
     "output_type": "stream",
     "text": [
      "(WWW) init_vars: could not read variable ixy1\n",
      "(WWW) init_vars: could not read variable ixy1\n"
     ]
    }
   ],
   "source": [
    "from helita.sim import bifrost\n",
    "basename = \"ch012012_hion\"\n",
    "loc_data = \"/mn/stornext/d9/matsc/3d/run/ch012012_hion\"          # location of data to be used (need permission to access)\n",
    "\n",
    "snap_num = 800         # available snapshots are 759 to 943\n",
    "data = bifrost.BifrostData(basename, snap=snap_num, fdir=loc_data)"
   ]
  },
  {
   "cell_type": "code",
   "execution_count": 2,
   "metadata": {},
   "outputs": [
    {
     "data": {
      "text/plain": [
       "['r',\n",
       " 'px',\n",
       " 'py',\n",
       " 'pz',\n",
       " 'e',\n",
       " 'bx',\n",
       " 'by',\n",
       " 'bz',\n",
       " 'p',\n",
       " 'tg',\n",
       " 'ixy1',\n",
       " 'qvisc',\n",
       " 'qjoule',\n",
       " 'hionne',\n",
       " 'hiontg',\n",
       " 'n1',\n",
       " 'n2',\n",
       " 'n3',\n",
       " 'n4',\n",
       " 'n5',\n",
       " 'n6',\n",
       " 'nh2']"
      ]
     },
     "execution_count": 2,
     "metadata": {},
     "output_type": "execute_result"
    }
   ],
   "source": [
    "data.simple_vars"
   ]
  },
  {
   "cell_type": "code",
   "execution_count": 3,
   "metadata": {},
   "outputs": [
    {
     "data": {
      "text/plain": [
       "(1024, 1024, 1024)"
      ]
     },
     "execution_count": 3,
     "metadata": {},
     "output_type": "execute_result"
    }
   ],
   "source": [
    "data.variables[\"tg\"].shape"
   ]
  },
  {
   "cell_type": "code",
   "execution_count": 4,
   "metadata": {},
   "outputs": [
    {
     "data": {
      "text/plain": [
       "True"
      ]
     },
     "execution_count": 4,
     "metadata": {},
     "output_type": "execute_result"
    }
   ],
   "source": [
    "data.variables['tg'] is data.tg     # just to varify that these datatypes are exactly the same"
   ]
  },
  {
   "cell_type": "code",
   "execution_count": 5,
   "metadata": {},
   "outputs": [
    {
     "name": "stdout",
     "output_type": "stream",
     "text": [
      "(get_var): reading  uz\n",
      "(get_var): reading  pz\n",
      "(get_var): reading simple  (1024, 1024, 1024)\n",
      "(get_var): reading  r\n",
      "(get_var): reading simple  (1024, 1024, 1024)\n"
     ]
    }
   ],
   "source": [
    "vz = data.get_var(\"uz\");"
   ]
  },
  {
   "cell_type": "code",
   "execution_count": 6,
   "metadata": {},
   "outputs": [],
   "source": [
    "from helita.sim import cstagger\n",
    "rdt = data.r.dtype\n",
    "cstagger.init_stagger(data.nz, data.dx, data.dy, data.z.astype(rdt),\n",
    "                      data.zdn.astype(rdt), data.dzidzup.astype(rdt),\n",
    "                      data.dzidzdn.astype(rdt))\n",
    "vz_cell_centre = cstagger.zup(data.pz) / data.r"
   ]
  },
  {
   "cell_type": "code",
   "execution_count": 34,
   "metadata": {},
   "outputs": [
    {
     "data": {
      "application/vnd.jupyter.widget-view+json": {
       "model_id": "38906db1142f49df857de62c6ff70a3e",
       "version_major": 2,
       "version_minor": 0
      },
      "text/plain": [
       "Canvas(toolbar=Toolbar(toolitems=[('Home', 'Reset original view', 'home', 'home'), ('Back', 'Back to previous …"
      ]
     },
     "metadata": {},
     "output_type": "display_data"
    }
   ],
   "source": [
    "# Visualise the data (velocity in z direction\n",
    "%matplotlib ipympl\n",
    "#%matplotlib widget\n",
    "#%matplotlib inline\n",
    "\n",
    "import numpy as np\n",
    "import matplotlib.pyplot as plt\n",
    "import matplotlib.animation as animation\n",
    "\n",
    "\n",
    "fig = plt.figure()\n",
    "ims = []\n",
    "\n",
    "#N = vz.shape[-1]\n",
    "N = 100\n",
    "\n",
    "for i in range(N):\n",
    "    im = plt.imshow(vz[:,:,700+i], animated=True)\n",
    "    ims.append([im])\n",
    "\n",
    "\n",
    "ani = animation.ArtistAnimation(fig, ims, interval=50, blit=True, repeat=False)\n",
    "\n",
    "plt.show()"
   ]
  },
  {
   "cell_type": "code",
   "execution_count": 36,
   "metadata": {},
   "outputs": [
    {
     "data": {
      "application/vnd.jupyter.widget-view+json": {
       "model_id": "09a82a7abff743b086fb8453f8621ae3",
       "version_major": 2,
       "version_minor": 0
      },
      "text/plain": [
       "Canvas(toolbar=Toolbar(toolitems=[('Home', 'Reset original view', 'home', 'home'), ('Back', 'Back to previous …"
      ]
     },
     "metadata": {},
     "output_type": "display_data"
    }
   ],
   "source": [
    "fig2 = plt.figure()\n",
    "ims2 = []\n",
    "\n",
    "for i in range(N):\n",
    "    im2 = plt.imshow(vz_cell_centre[:,:,700+i], animated=True)\n",
    "    ims2.append([im2])\n",
    "\n",
    "ani2 = animation.ArtistAnimation(fig2, ims2, interval=50, blit=True, repeat=False)\n",
    "\n",
    "plt.show()"
   ]
  },
  {
   "cell_type": "markdown",
   "metadata": {},
   "source": [
    "The cell below takes a long time to run."
   ]
  },
  {
   "cell_type": "code",
   "execution_count": 2,
   "metadata": {},
   "outputs": [
    {
     "name": "stdout",
     "output_type": "stream",
     "text": [
      "(WWW) init_vars: could not read variable ixy1\n",
      "(WWW) init_vars: could not read variable ixy1\n"
     ]
    },
    {
     "name": "stderr",
     "output_type": "stream",
     "text": [
      "Getting hydrogen populations:  25%|██▌       | 1/4 [00:31<01:33, 31.17s/it]"
     ]
    },
    {
     "name": "stdout",
     "output_type": "stream",
     "text": [
      "(get_var): reading  n1\n",
      "(get_var): reading simple  (1024, 1024, 1024)\n",
      "(get_var): reading  n2\n",
      "(get_var): reading simple  (1024, 1024, 1024)\n",
      "(get_var): reading  n3\n",
      "(get_var): reading simple  (1024, 1024, 1024)\n",
      "(get_var): reading  n4\n",
      "(get_var): reading simple  (1024, 1024, 1024)\n",
      "(get_var): reading  n5\n",
      "(get_var): reading simple  (1024, 1024, 1024)\n",
      "(get_var): reading  n6\n",
      "(get_var): reading simple  (1024, 1024, 1024)\n"
     ]
    },
    {
     "name": "stderr",
     "output_type": "stream",
     "text": [
      "Getting electron density:  50%|█████     | 2/4 [1:04:49<39:18, 1179.25s/it]    "
     ]
    },
    {
     "name": "stdout",
     "output_type": "stream",
     "text": [
      "(get_var): reading  hionne\n",
      "(get_var): reading simple  (1024, 1024, 1024)\n"
     ]
    },
    {
     "name": "stderr",
     "output_type": "stream",
     "text": [
      "Writing to file:  75%|███████▌  | 3/4 [1:04:59<13:48, 828.54s/it]          /astro/local/anaconda/lib/python3.7/site-packages/numpy/core/memmap.py:331: FutureWarning: Using a non-tuple sequence for multidimensional indexing is deprecated; use `arr[tuple(seq)]` instead of `arr[seq]`. In the future this will be interpreted as an array index, `arr[np.array(seq)]`, which will result either in an error or a different result.\n",
      "  res = super(memmap, self).__getitem__(index)\n",
      "/mn/stornext/u3/jonastf/.local/lib/python3.7/site-packages/helita-0.9.0-py3.7-linux-x86_64.egg/helita/sim/rh15d.py:544: FutureWarning: Using a non-tuple sequence for multidimensional indexing is deprecated; use `arr[tuple(seq)]` instead of `arr[seq]`. In the future this will be interpreted as an array index, `arr[np.array(seq)]`, which will result either in an error or a different result.\n",
      "  data[var][0] = data[var][0][idx]\n",
      "Writing to file: 100%|██████████| 4/4 [1:21:24<00:00, 875.36s/it]"
     ]
    }
   ],
   "source": [
    "saving_data = bifrost.BifrostData(basename, snap=snap_num, fdir=loc_data)\n",
    "saving_data.write_rh15d(\"/mn/stornext/u3/jonastf/rh/Atmos/bifrost_ch012012_hion_snap%i.hdf5\" % snap_num,\n",
    "                        desc=\"Some arbitrary snapshot (%i) from Bifrost aligable to RH 1.5D\" % snap_num)"
   ]
  },
  {
   "cell_type": "code",
   "execution_count": null,
   "metadata": {},
   "outputs": [],
   "source": []
  }
 ],
 "metadata": {
  "kernelspec": {
   "display_name": "Python 3",
   "language": "python",
   "name": "python3"
  },
  "language_info": {
   "codemirror_mode": {
    "name": "ipython",
    "version": 3
   },
   "file_extension": ".py",
   "mimetype": "text/x-python",
   "name": "python",
   "nbconvert_exporter": "python",
   "pygments_lexer": "ipython3",
   "version": "3.7.3"
  }
 },
 "nbformat": 4,
 "nbformat_minor": 4
}
