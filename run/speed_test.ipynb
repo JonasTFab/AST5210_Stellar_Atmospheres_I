{
 "cells": [
  {
   "cell_type": "markdown",
   "metadata": {},
   "source": [
    "# Speed test"
   ]
  },
  {
   "cell_type": "code",
<<<<<<< HEAD
   "execution_count": 4,
=======
   "execution_count": 1,
>>>>>>> fb849634e6011dd9083cf87dd345d7510334bb84
   "metadata": {},
   "outputs": [
    {
     "name": "stdout",
     "output_type": "stream",
     "text": [
<<<<<<< HEAD
      "Total time used: 0.877 s\n"
=======
      "Total time used: 1.682 s\n"
>>>>>>> fb849634e6011dd9083cf87dd345d7510334bb84
     ]
    }
   ],
   "source": [
    "# speed test on institute machine (beehive11) and private computer\n",
    "import time as t\n",
    "import numpy as np\n",
    "\n",
    "var = 0\n",
    "\n",
    "\n",
    "t0 = t.time()\n",
    "\n",
    "for x in range(int(1e6)):\n",
    "    var += np.sin(0.01*x)\n",
    "    \n",
    "tot_time = t.time() - t0\n",
    "print(\"Total time used: %.3f s\" % tot_time)\n",
    "\n",
    "\n",
    "\n",
    "\"\"\"\n",
    "Time usage\n",
    "----------\n",
    "On institute's machine (beehive11): 1.673 s\n",
    "On private machine: 0.891 s                 \n",
    "\n",
    "\"\"\";\n"
   ]
  },
  {
   "cell_type": "code",
   "execution_count": null,
   "metadata": {},
   "outputs": [],
   "source": []
  }
 ],
 "metadata": {
  "kernelspec": {
   "display_name": "Python 3",
   "language": "python",
   "name": "python3"
  },
  "language_info": {
   "codemirror_mode": {
    "name": "ipython",
    "version": 3
   },
   "file_extension": ".py",
   "mimetype": "text/x-python",
   "name": "python",
   "nbconvert_exporter": "python",
   "pygments_lexer": "ipython3",
   "version": "3.8.5"
  }
 },
 "nbformat": 4,
 "nbformat_minor": 4
}
