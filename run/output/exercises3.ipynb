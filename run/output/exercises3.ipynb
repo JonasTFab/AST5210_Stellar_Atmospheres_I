{
 "cells": [
  {
   "cell_type": "markdown",
   "metadata": {},
   "source": [
    "# Exercises in AST5210 using the RH code\n",
    "\n",
    "Exercices from https://tiagopereira.space/ast5210/CaII_formation/.\n",
    "\n",
    "---------------------"
   ]
  },
  {
   "cell_type": "markdown",
   "metadata": {},
   "source": [
    "First off, we add a few heavier atoms to the `atoms.input` file according to the exercise description."
   ]
  },
  {
   "cell_type": "code",
   "execution_count": 1,
   "metadata": {},
   "outputs": [],
   "source": [
    "%matplotlib ipympl\n",
    "import numpy as np\n",
    "import matplotlib.pyplot as plt\n",
    "from helita.sim import rh15d\n",
    "from helita.vis import rh15d_vis\n",
    "from shutil import copyfile\n",
    "\n",
    "wl_ha = 656.28                            # nm (wavelength of H_alpha, from wikipedia)\n",
    "wl_caII_H = 393.37                       # nm (wavelength of Ca II H)\n",
    "\n",
    "\n",
    "# 'resets' files to originals from 'run_example' folder\n",
    "copyfile(\"../og_atoms.input\", \"../atoms.input\")\n",
    "copyfile(\"../og_keyword.input\", \"../keyword.input\");"
   ]
  },
  {
   "cell_type": "code",
   "execution_count": 2,
   "metadata": {},
   "outputs": [],
   "source": [
    "# adjusts the 'atoms.inputs' file according to the exercise\n",
    "atoms_file = open(\"../atoms.input\", \"r\")\n",
    "new_atoms_file = open(\"../new_atoms.input\", \"w\")\n",
    "\n",
    "change_nmetal = False\n",
    "for line in atoms_file:\n",
    "    if \"# Nmetal\" in line:\n",
    "        change_nmetal = True\n",
    "        new_atoms_file.write(line)\n",
    "    elif change_nmetal:\n",
    "        new_atoms_file.write(\"  10 \\n\")\n",
    "        change_nmetal = False\n",
    "    \n",
    "    elif \"H_6.atom\" in line:\n",
    "        H_line = line\n",
    "        H_line = H_line.replace(\"ACTIVE\", \" PASSIVE\")\n",
    "        H_line = H_line.replace(\"pops.H.out\", \"\")\n",
    "        new_atoms_file.write(H_line)\n",
    "    elif \"CaII.atom\" in line:\n",
    "        # Removing this atom from file as it is re-added later\n",
    "        #Ca_line = line\n",
    "        #Ca_line = Ca_line.replace(\" ACTIVE\", \"PASSIVE\")\n",
    "        #Ca_line = Ca_line.replace(\"pops.CA.out\", \"\")\n",
    "        #new_atoms_file.write(Ca_line)\n",
    "        pass\n",
    "    \n",
    "    else:\n",
    "        new_atoms_file.write(line)\n",
    "\n",
    "\n",
    "\n",
    "# adding additional atoms to 'atoms.input' file\n",
    "if \"S.atom\" not in line:\n",
    "    new_atoms_file.write(\"  ../../Atoms/MgII-IRIS.atom       PASSIVE    ZERO_RADIATION   \\n\")\n",
    "    new_atoms_file.write(\"  ../../Atoms/CaII_PRD.atom         ACTIVE    ZERO_RADIATION   \\n\")\n",
    "    new_atoms_file.write(\"  ../../Atoms/Si.atom              PASSIVE   LTE_POPULATIONS   \\n\")\n",
    "    new_atoms_file.write(\"  ../../Atoms/Al.atom              PASSIVE   LTE_POPULATIONS   \\n\")\n",
    "    new_atoms_file.write(\"  ../../Atoms/Fe.atom              PASSIVE   LTE_POPULATIONS   \\n\")\n",
    "    new_atoms_file.write(\"  ../../Atoms/He.atom              PASSIVE   LTE_POPULATIONS   \\n\")\n",
    "    new_atoms_file.write(\"  ../../Atoms/N.atom               PASSIVE   LTE_POPULATIONS   \\n\")\n",
    "    new_atoms_file.write(\"  ../../Atoms/Na.atom              PASSIVE   LTE_POPULATIONS   \\n\")\n",
    "    new_atoms_file.write(\"  ../../Atoms/S.atom               PASSIVE   LTE_POPULATIONS   \\n\")\n",
    "\n",
    "    \n",
    "\n",
    "atoms_file.close()\n",
    "new_atoms_file.close()\n",
    "\n",
    "copyfile(\"../new_atoms.input\", \"../atoms.input\")\n",
    "\n",
    "\n",
    "# adjusts the 'keyword.inputs' file according to the exercise\n",
    "keyword_file = open(\"../keyword.input\", \"r\")\n",
    "new_keyword_file = open(\"../new_keyword.input\", \"w\")\n",
    "for line in keyword_file:\n",
    "    if \"15D_WRITE_POPS\" in line:\n",
    "        new_keyword_file.write(line.replace(\"FALSE\", \"TRUE\"))\n",
    "    else:\n",
    "        new_keyword_file.write(line)\n",
    "\n",
    "keyword_file.close()\n",
    "new_keyword_file.close()\n",
    "\n",
    "copyfile(\"../new_keyword.input\", \"../keyword.input\");"
   ]
  },
  {
   "cell_type": "markdown",
   "metadata": {},
   "source": [
    "Creating the `ray.input` file containing indices of wavelengths to be saved. Most of the code in the next cell are taken from the exercise description."
   ]
  },
  {
   "cell_type": "code",
   "execution_count": 4,
   "metadata": {},
   "outputs": [
    {
     "name": "stdout",
     "output_type": "stream",
     "text": [
      "--- Read ./output_aux.hdf5 file.\n",
      "--- Read ./output_indata.hdf5 file.\n",
      "--- Read ./output_ray.hdf5 file.\n"
     ]
    }
   ],
   "source": [
    "try:\n",
    "    data.close()\n",
    "except:\n",
    "    pass\n",
    "\n",
    "data = rh15d.Rh15dout()\n",
    "wave = data.ray.wavelength\n",
    "indices = np.arange(len(wave))[(wave > 392.8) & (wave < 394.0)]\n",
    "\n",
    "wave.sel(wavelength=500, method='nearest')\n",
    "index500 = np.argmin(np.abs(wave.data - 500))\n",
    "\n",
    "f = open('../ray.input', 'w')  # this will overwrite any existing file!\n",
    "f.write('1.00\\n')\n",
    "output = str(len(indices) + 1)\n",
    "for ind in indices:\n",
    "    output += ' %i' % ind\n",
    "output += ' %i\\n' % index500 \n",
    "f.write(output)\n",
    "f.close()\n"
   ]
  },
  {
   "cell_type": "markdown",
   "metadata": {},
   "source": [
    "We then run the RH code and investigate the output from the `output_ray.hdf5` file using ncdump -h in the terminal. We get the following:\n",
    "\n",
    "```\n",
    "[jonastf@beehive17 run]$ ncdump -h output/output_ray.hdf5 \n",
    "netcdf output_ray {\n",
    "dimensions:\n",
    "\theight = 82 ;\n",
    "\twavelength = 424 ;\n",
    "\twavelength_selected = 44 ;\n",
    "\tx = 1 ;\n",
    "\ty = 1 ;\n",
    "variables:\n",
    "\tfloat Jlambda(x, y, height, wavelength_selected) ;\n",
    "\t\tJlambda:units = \"W / (Hz m2 sr)\" ;\n",
    "\t\tJlambda:long_name = \"Mean radiation field\" ;\n",
    "\t\tJlambda:_FillValue = 9.96921e+36f ;\n",
    "\tfloat chi(x, y, height, wavelength_selected) ;\n",
    "\t\tchi:units = \"1 / m\" ;\n",
    "\t\tchi:long_name = \"Total absorption (line + continuum)\" ;\n",
    "\t\tchi:_FillValue = 9.96921e+36f ;\n",
    "\tfloat intensity(x, y, wavelength) ;\n",
    "\t\tintensity:units = \"W / (Hz m2 sr)\" ;\n",
    "\t\tintensity:_FillValue = 9.96921e+36f ;\n",
    "\tfloat scattering(x, y, height, wavelength_selected) ;\n",
    "\t\tscattering:long_name = \"Scattering term multiplied by Jlambda\" ;\n",
    "\t\tscattering:_FillValue = 9.96921e+36f ;\n",
    "\tfloat source_function(x, y, height, wavelength_selected) ;\n",
    "\t\tsource_function:units = \"W / (Hz m2 sr)\" ;\n",
    "\t\tsource_function:long_name = \"Total source function (line + continuum)\" ;\n",
    "\t\tsource_function:_FillValue = 9.96921e+36f ;\n",
    "\tdouble wavelength(wavelength) ;\n",
    "\t\twavelength:units = \"nm\" ;\n",
    "\tint wavelength_indices(wavelength_selected) ;\n",
    "\tdouble wavelength_selected(wavelength_selected) ;\n",
    "\t\twavelength_selected:units = \"nm\" ;\n",
    "\tdouble x(x) ;\n",
    "\t\tx:units = \"m\" ;\n",
    "\tdouble y(y) ;\n",
    "\t\ty:units = \"m\" ;\n",
    "\n",
    "// global attributes:\n",
    "\t\t:atmosID = \"FALC_82_5x5.hdf5 (Wed Jan 20 15:50:40 2021)\" ;\n",
    "\t\t:snapshot_number = 0US ;\n",
    "\t\t:rev_id = \"7d54c67 Jaime de la Cruz Rodriguez 2020-11-12 11:02:51 +0100\" ;\n",
    "\t\t:nx = 1 ;\n",
    "\t\t:ny = 1 ;\n",
    "\t\t:nz = 82 ;\n",
    "\t\t:nwave = 424 ;\n",
    "\t\t:wavelength_selected = 44 ;\n",
    "\t\t:creation_time = \"2021-02-11T16:12:40+0100\" ;\n",
    "}\n",
    "```"
   ]
  },
  {
   "cell_type": "markdown",
   "metadata": {},
   "source": [
    "We will then look further into the two arrays `chi` and `source function`. To find the optical depth, we need to integrate `chi` over height using functionalities that the `scipy` module provides. Code in the cell below is taken from the exercises."
   ]
  },
  {
   "cell_type": "code",
   "execution_count": 5,
   "metadata": {},
   "outputs": [
    {
     "ename": "AttributeError",
     "evalue": "'Dataset' object has no attribute 'wavelength_selected'",
     "output_type": "error",
     "traceback": [
      "\u001b[0;31m---------------------------------------------------------------------------\u001b[0m",
      "\u001b[0;31mAttributeError\u001b[0m                            Traceback (most recent call last)",
      "\u001b[0;32m<ipython-input-5-ea060a71a37f>\u001b[0m in \u001b[0;36m<module>\u001b[0;34m\u001b[0m\n\u001b[1;32m      2\u001b[0m \u001b[0;34m\u001b[0m\u001b[0m\n\u001b[1;32m      3\u001b[0m \u001b[0mheight\u001b[0m \u001b[0;34m=\u001b[0m \u001b[0mdata\u001b[0m\u001b[0;34m.\u001b[0m\u001b[0matmos\u001b[0m\u001b[0;34m.\u001b[0m\u001b[0mheight_scale\u001b[0m\u001b[0;34m[\u001b[0m\u001b[0;36m0\u001b[0m\u001b[0;34m,\u001b[0m \u001b[0;36m0\u001b[0m\u001b[0;34m]\u001b[0m\u001b[0;34m.\u001b[0m\u001b[0mdropna\u001b[0m\u001b[0;34m(\u001b[0m\u001b[0;34m'height'\u001b[0m\u001b[0;34m)\u001b[0m                          \u001b[0;31m# first column\u001b[0m\u001b[0;34m\u001b[0m\u001b[0;34m\u001b[0m\u001b[0m\n\u001b[0;32m----> 4\u001b[0;31m \u001b[0mindex500\u001b[0m \u001b[0;34m=\u001b[0m \u001b[0mnp\u001b[0m\u001b[0;34m.\u001b[0m\u001b[0margmin\u001b[0m\u001b[0;34m(\u001b[0m\u001b[0mnp\u001b[0m\u001b[0;34m.\u001b[0m\u001b[0mabs\u001b[0m\u001b[0;34m(\u001b[0m\u001b[0mdata\u001b[0m\u001b[0;34m.\u001b[0m\u001b[0mray\u001b[0m\u001b[0;34m.\u001b[0m\u001b[0mwavelength_selected\u001b[0m \u001b[0;34m-\u001b[0m \u001b[0;36m500\u001b[0m\u001b[0;34m)\u001b[0m\u001b[0;34m)\u001b[0m                 \u001b[0;31m# index of 500 nm\u001b[0m\u001b[0;34m\u001b[0m\u001b[0;34m\u001b[0m\u001b[0m\n\u001b[0m\u001b[1;32m      5\u001b[0m \u001b[0mtau500\u001b[0m \u001b[0;34m=\u001b[0m \u001b[0mcumtrapz\u001b[0m\u001b[0;34m(\u001b[0m\u001b[0mdata\u001b[0m\u001b[0;34m.\u001b[0m\u001b[0mray\u001b[0m\u001b[0;34m.\u001b[0m\u001b[0mchi\u001b[0m\u001b[0;34m[\u001b[0m\u001b[0;36m0\u001b[0m\u001b[0;34m,\u001b[0m \u001b[0;36m0\u001b[0m\u001b[0;34m,\u001b[0m \u001b[0;34m:\u001b[0m\u001b[0;34m,\u001b[0m \u001b[0mindex500\u001b[0m\u001b[0;34m]\u001b[0m\u001b[0;34m.\u001b[0m\u001b[0mdropna\u001b[0m\u001b[0;34m(\u001b[0m\u001b[0;34m'height'\u001b[0m\u001b[0;34m)\u001b[0m\u001b[0;34m,\u001b[0m \u001b[0mx\u001b[0m\u001b[0;34m=\u001b[0m\u001b[0;34m-\u001b[0m\u001b[0mheight\u001b[0m\u001b[0;34m)\u001b[0m\u001b[0;34m\u001b[0m\u001b[0;34m\u001b[0m\u001b[0m\n\u001b[1;32m      6\u001b[0m \u001b[0mtau500\u001b[0m \u001b[0;34m=\u001b[0m \u001b[0mnp\u001b[0m\u001b[0;34m.\u001b[0m\u001b[0mconcatenate\u001b[0m\u001b[0;34m(\u001b[0m\u001b[0;34m[\u001b[0m\u001b[0;34m[\u001b[0m\u001b[0;36m1e-20\u001b[0m\u001b[0;34m]\u001b[0m\u001b[0;34m,\u001b[0m \u001b[0mtau500\u001b[0m\u001b[0;34m]\u001b[0m\u001b[0;34m)\u001b[0m                                       \u001b[0;31m# ensure tau500 and height have same size\u001b[0m\u001b[0;34m\u001b[0m\u001b[0;34m\u001b[0m\u001b[0m\n",
      "\u001b[0;32m/astro/local/anaconda/lib/python3.7/site-packages/xarray/core/common.py\u001b[0m in \u001b[0;36m__getattr__\u001b[0;34m(self, name)\u001b[0m\n\u001b[1;32m    181\u001b[0m                     \u001b[0;32mreturn\u001b[0m \u001b[0msource\u001b[0m\u001b[0;34m[\u001b[0m\u001b[0mname\u001b[0m\u001b[0;34m]\u001b[0m\u001b[0;34m\u001b[0m\u001b[0;34m\u001b[0m\u001b[0m\n\u001b[1;32m    182\u001b[0m         raise AttributeError(\"%r object has no attribute %r\" %\n\u001b[0;32m--> 183\u001b[0;31m                              (type(self).__name__, name))\n\u001b[0m\u001b[1;32m    184\u001b[0m \u001b[0;34m\u001b[0m\u001b[0m\n\u001b[1;32m    185\u001b[0m     \u001b[0;32mdef\u001b[0m \u001b[0m__setattr__\u001b[0m\u001b[0;34m(\u001b[0m\u001b[0mself\u001b[0m\u001b[0;34m,\u001b[0m \u001b[0mname\u001b[0m\u001b[0;34m:\u001b[0m \u001b[0mstr\u001b[0m\u001b[0;34m,\u001b[0m \u001b[0mvalue\u001b[0m\u001b[0;34m:\u001b[0m \u001b[0mAny\u001b[0m\u001b[0;34m)\u001b[0m \u001b[0;34m->\u001b[0m \u001b[0;32mNone\u001b[0m\u001b[0;34m:\u001b[0m\u001b[0;34m\u001b[0m\u001b[0;34m\u001b[0m\u001b[0m\n",
      "\u001b[0;31mAttributeError\u001b[0m: 'Dataset' object has no attribute 'wavelength_selected'"
     ]
    }
   ],
   "source": [
    "from scipy.integrate import cumtrapz\n",
    "\n",
    "height = data.atmos.height_scale[0, 0].dropna('height')                          # first column\n",
    "index500 = np.argmin(np.abs(data.ray.wavelength_selected - 500))                 # index of 500 nm\n",
    "tau500 = cumtrapz(data.ray.chi[0, 0, :, index500].dropna('height'), x=-height)\n",
    "tau500 = np.concatenate([[1e-20], tau500])                                       # ensure tau500 and height have same size\n",
    "\n",
    "unity_height = height[abs(tau500-1).argmin()].values/1e6                         # units of Mm\n",
    "\n",
    "fig, ax = plt.subplots()\n",
    "ax.plot(height / 1e6, tau500, label=r\"$\\tau_{500}$\")  # height in Mm\n",
    "ax.plot([np.min(height)/1e6, np.max(height)/1e6], [1,1], label=r\"$\\tau$ = 1\")\n",
    "ax.plot([unity_height, unity_height], [min(tau500), max(tau500)], label=\"Unity height (%.3f km)\" % (unity_height*1e3))\n",
    "ax.set_xlabel(\"Height (Mm)\")\n",
    "ax.set_ylabel(r\"$\\tau$\")\n",
    "ax.set_yscale(\"log\")\n",
    "ax.legend();"
   ]
  },
  {
   "cell_type": "markdown",
   "metadata": {},
   "source": [
    "We observe that the unity heights at 500 nm is reached at approximately 1 km. "
   ]
  },
  {
   "cell_type": "code",
   "execution_count": 27,
   "metadata": {},
   "outputs": [
    {
     "data": {
      "application/vnd.jupyter.widget-view+json": {
       "model_id": "3e450c1dcd5f4688aaf46ac3e950b9f3",
       "version_major": 2,
       "version_minor": 0
      },
      "text/plain": [
       "Canvas(toolbar=Toolbar(toolitems=[('Home', 'Reset original view', 'home', 'home'), ('Back', 'Back to previous …"
      ]
     },
     "metadata": {},
     "output_type": "display_data"
    }
   ],
   "source": [
    "index_CaII_H = np.argmin(np.abs(data.ray.wavelength_selected - wl_caII_H))  # index of 396.85 nm\n",
    "tau_CaII_H = cumtrapz(data.ray.chi[0, 0, :, index_CaII_H].dropna('height'), x=-height)\n",
    "tau_CaII_H = np.concatenate([[1e-20], tau_CaII_H])  # ensure tau_CaII_H and height have same size\n",
    "\n",
    "unity_height = height[abs(tau_CaII_H-1).argmin()].values/1e6\n",
    "\n",
    "fig_Ca, ax_Ca = plt.subplots()\n",
    "ax_Ca.plot(height / 1e6, tau_CaII_H, label=r\"$\\tau_{Ca II H}$\")  # height in Mm\n",
    "ax_Ca.plot([np.min(height)/1e6, np.max(height)/1e6], [1,1], label=r\"$\\tau$ = 1\")\n",
    "ax_Ca.plot([unity_height, unity_height], [min(tau_CaII_H), max(tau_CaII_H)], label=\"Unity height (%.2f Mm)\" % unity_height)\n",
    "ax_Ca.set_xlabel(\"Height (Mm)\")\n",
    "ax_Ca.set_ylabel(r\"$\\tau$\")\n",
    "ax_Ca.set_yscale(\"log\")\n",
    "ax_Ca.legend();"
   ]
  },
  {
   "cell_type": "markdown",
   "metadata": {},
   "source": [
    "The unity height at the core of Ca II H occurs at approximately 1.7 Mm."
   ]
  },
  {
   "cell_type": "code",
   "execution_count": 28,
   "metadata": {},
   "outputs": [
    {
     "data": {
      "text/plain": [
       "<xarray.Dataset>\n",
       "Dimensions:          (height: 82, level: 6, phony_dim_4: 5, x: 1, y: 1)\n",
       "Coordinates:\n",
       "  * x                (x) float64 0.0\n",
       "  * y                (y) float64 0.0\n",
       "Dimensions without coordinates: height, level, phony_dim_4\n",
       "Data variables:\n",
       "    continuum        (phony_dim_4) uint32 ...\n",
       "    line             (phony_dim_4) uint32 ...\n",
       "    populations      (level, x, y, height) float32 ...\n",
       "    populations_LTE  (level, x, y, height) float32 ...\n",
       "Attributes:\n",
       "    nlevel:      6\n",
       "    nline:       5\n",
       "    ncontinuum:  5"
      ]
     },
     "execution_count": 28,
     "metadata": {},
     "output_type": "execute_result"
    }
   ],
   "source": [
    "data.atom_CA"
   ]
  },
  {
   "cell_type": "code",
   "execution_count": 29,
   "metadata": {},
   "outputs": [
    {
     "data": {
      "application/vnd.jupyter.widget-view+json": {
       "model_id": "50d92cc46755476c9eb1bbbd06cbb06c",
       "version_major": 2,
       "version_minor": 0
      },
      "text/plain": [
       "Canvas(toolbar=Toolbar(toolitems=[('Home', 'Reset original view', 'home', 'home'), ('Back', 'Back to previous …"
      ]
     },
     "metadata": {},
     "output_type": "display_data"
    }
   ],
   "source": [
    "dep_coeff = (data.atom_CA.populations[0,0,0,:] / data.atom_CA.populations_LTE[0,0,0,:])[-len(height):]\n",
    "\n",
    "\n",
    "fig_pop, (ax_pop1, ax_pop2) = plt.subplots(1, 2)\n",
    "ax_pop1.plot(height, dep_coeff, label=\"Departure coefficient\")\n",
    "ax_pop1.set_xlabel(\"Height (Mm)\")\n",
    "ax_pop1.set_ylabel(\"Departure coefficient\")\n",
    "ax_pop1.legend()\n",
    "ax_pop1.set_yscale(\"log\")\n",
    "\n",
    "\n",
    "ax_pop2.plot(tau500, dep_coeff, label=\"Departure coefficient\")\n",
    "ax_pop2.set_xlabel(r\"$\\tau_{500}$\")\n",
    "ax_pop2.set_ylabel(\"Departure coefficient\")\n",
    "ax_pop2.legend()\n",
    "ax_pop2.set_xscale(\"log\")\n",
    "ax_pop2.set_yscale(\"log\");"
   ]
  },
  {
   "cell_type": "markdown",
   "metadata": {},
   "source": [
    "The left plot shows the departure coefficient as a function of height while the right plot shows the same but as a function of $\\tau_{500}$."
   ]
  },
  {
   "cell_type": "code",
   "execution_count": 59,
   "metadata": {},
   "outputs": [
    {
     "data": {
      "application/vnd.jupyter.widget-view+json": {
       "model_id": "9c0be231324e4a84b0de2160c8e641a4",
       "version_major": 2,
       "version_minor": 0
      },
      "text/plain": [
       "Canvas(toolbar=Toolbar(toolitems=[('Home', 'Reset original view', 'home', 'home'), ('Back', 'Back to previous …"
      ]
     },
     "metadata": {},
     "output_type": "display_data"
    }
   ],
   "source": [
    "height_tau1 = np.zeros(len(indices))\n",
    "\n",
    "for i, w in enumerate(wave[indices]):\n",
    "    index = np.argmin(np.abs(data.ray.wavelength_selected - w))\n",
    "    tau = cumtrapz(data.ray.chi[0, 0, :, index].dropna('height'), x=-height)\n",
    "    height_tau1[i] = height[np.argmin(abs(tau-1))]\n",
    "\n",
    "height_tau1 /= 1e6\n",
    "    \n",
    "fig_tau1, ax_tau1 = plt.subplots()\n",
    "ax_tau1.plot(wave[indices], height_tau1, label=r\"$\\tau$ = 1\")\n",
    "ax_tau1.plot([wl_caII_H, wl_caII_H], [np.min(height_tau1), np.max(height_tau1)], label=\"Ca II Core\")\n",
    "ax_tau1.legend()\n",
    "ax_tau1.set_xlabel(\"Wavelength (nm)\")\n",
    "ax_tau1.set_ylabel(\"Height (Mm)\");"
   ]
  },
  {
   "cell_type": "markdown",
   "metadata": {},
   "source": [
    "The plot above shows where the optical depth is equal to one as a function of wavelegth. We note the highest point in the atmosphere presents the Ca II core.\n",
    "\n",
    "We will look into the source funtion widget that `helita` provides."
   ]
  },
  {
   "cell_type": "code",
   "execution_count": 60,
   "metadata": {},
   "outputs": [
    {
     "data": {
      "application/vnd.jupyter.widget-view+json": {
       "model_id": "f4d7a5d94fb24424986f724d3fc73379",
       "version_major": 2,
       "version_minor": 0
      },
      "text/plain": [
       "Canvas(toolbar=Toolbar(toolitems=[('Home', 'Reset original view', 'home', 'home'), ('Back', 'Back to previous …"
      ]
     },
     "metadata": {},
     "output_type": "display_data"
    },
    {
     "data": {
      "application/vnd.jupyter.widget-view+json": {
       "model_id": "cdf78f2828044a469d0f610c48c3984b",
       "version_major": 2,
       "version_minor": 0
      },
      "text/plain": [
       "interactive(children=(IntSlider(value=0, description='wavelength', max=43), Checkbox(value=True, description='…"
      ]
     },
     "metadata": {},
     "output_type": "display_data"
    }
   ],
   "source": [
    "rh15d_vis.SourceFunction(data);"
   ]
  },
  {
   "cell_type": "markdown",
   "metadata": {},
   "source": [
    "We remember that the line core is at approximately 393.37 nm, i.e. index 21 in this case. The far wing can be repesented as either the first or the last index. Looking at index 0 shows us that the source function departs from the Planc function at approximately 0.6 Mm. This is also true at the line core but the emissivity follows the source function to approximately 1.8 Mm or $\\tau$ = 1."
   ]
  },
  {
   "cell_type": "code",
   "execution_count": null,
   "metadata": {},
   "outputs": [],
   "source": []
  }
 ],
 "metadata": {
  "kernelspec": {
   "display_name": "Python 3",
   "language": "python",
   "name": "python3"
  },
  "language_info": {
   "codemirror_mode": {
    "name": "ipython",
    "version": 3
   },
   "file_extension": ".py",
   "mimetype": "text/x-python",
   "name": "python",
   "nbconvert_exporter": "python",
   "pygments_lexer": "ipython3",
   "version": "3.7.3"
  }
 },
 "nbformat": 4,
 "nbformat_minor": 4
}
