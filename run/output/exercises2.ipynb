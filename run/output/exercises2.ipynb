{
 "cells": [
  {
   "cell_type": "markdown",
   "metadata": {},
   "source": [
    "# Exercises in AST5210 using the RH code\n",
    "\n",
    "Exercices from https://tiagopereira.space/ast5210/LTE_NLTE/.\n",
    "\n",
    "---------------------"
   ]
  },
  {
   "cell_type": "markdown",
   "metadata": {},
   "source": [
    "The `atoms.input` and `keyword.input` files are changed according to the exercise through the code below."
   ]
  },
  {
   "cell_type": "code",
   "execution_count": 1,
   "metadata": {},
   "outputs": [],
   "source": [
    "%matplotlib ipympl\n",
    "import numpy as np\n",
    "import matplotlib.pyplot as plt\n",
    "from helita.sim import rh15d\n",
    "from helita.vis import rh15d_vis\n",
    "from shutil import copyfile\n",
    "\n",
    "wl_ha = 656.28                            # nm (wavelength of H_alpha, from wikipedia)\n",
    "\n",
    "# 'resets' files to originals from 'run_example' folder\n",
    "copyfile(\"../og_atoms.input\", \"../atoms.input\")\n",
    "copyfile(\"../og_keyword.input\", \"../keyword.input\");"
   ]
  },
  {
   "cell_type": "code",
   "execution_count": 3,
   "metadata": {},
   "outputs": [],
   "source": [
    "# adjusts the 'atoms.inputs' file according to the exercise\n",
    "atoms_file = open(\"../atoms.input\", \"r\")\n",
    "new_atoms_file = open(\"../new_atoms.input\", \"w\")\n",
    "for line in atoms_file:\n",
    "    if \"CaII\" in line:\n",
    "        new_atoms_file.write(line.replace(\"ACTIVE\", \"PASSIVE\"))\n",
    "    elif \"H_6\" in line:\n",
    "        new_atoms_file.write(line.replace(\"PASSIVE\", \"ACTIVE\"))\n",
    "    else:\n",
    "        new_atoms_file.write(line)\n",
    "\n",
    "atoms_file.close()\n",
    "new_atoms_file.close()\n",
    "\n",
    "copyfile(\"../new_atoms.input\", \"../atoms.input\")\n",
    "\n",
    "\n",
    "# adjusts the 'keyword.inputs' file according to the exercise\n",
    "keyword_file = open(\"../keyword.input\", \"r\")\n",
    "new_keyword_file = open(\"../new_keyword.input\", \"w\")\n",
    "for line in keyword_file:\n",
    "    if \"15D_WRITE_POPS\" in line:\n",
    "        new_keyword_file.write(line.replace(\"FALSE\", \"TRUE\"))\n",
    "    else:\n",
    "        new_keyword_file.write(line)\n",
    "\n",
    "keyword_file.close()\n",
    "new_keyword_file.close()\n",
    "\n",
    "copyfile(\"../new_keyword.input\", \"../keyword.input\");"
   ]
  },
  {
   "cell_type": "markdown",
   "metadata": {},
   "source": [
    "Then, as we are located in the 'run' folder, `../rh15d_ray` is executed from the terminal. Next we load in the output data and make the intensity plot including the H$_{\\alpha}$ line. "
   ]
  },
  {
   "cell_type": "code",
   "execution_count": 4,
   "metadata": {},
   "outputs": [],
   "source": [
    "#rh15d_vis.InputAtmosphere(\"../../../Atmos/FALC_82_5x5.hdf5\");"
   ]
  },
  {
   "cell_type": "code",
   "execution_count": 7,
   "metadata": {},
   "outputs": [
    {
     "name": "stdout",
     "output_type": "stream",
     "text": [
      "--- Read ./output_aux.hdf5 file.\n",
      "--- Read ./output_indata.hdf5 file.\n",
      "--- Read ./output_ray.hdf5 file.\n"
     ]
    },
    {
     "name": "stderr",
     "output_type": "stream",
     "text": [
      "/mn/stornext/u3/jonastf/.local/lib/python3.7/site-packages/helita-0.9.0-py3.7-linux-x86_64.egg/helita/sim/rh15d.py:40: FutureWarning: The autoclose argument is no longer used by xarray.open_dataset() and is now ignored; it will be removed in a future version of xarray. If necessary, you can control the maximum number of simultaneous open files with xarray.set_options(file_cache_maxsize=...).\n",
      "  setattr(self, g, xr.open_dataset(infile, group=g, autoclose=True))\n",
      "/mn/stornext/u3/jonastf/.local/lib/python3.7/site-packages/helita-0.9.0-py3.7-linux-x86_64.egg/helita/sim/rh15d.py:53: FutureWarning: The autoclose argument is no longer used by xarray.open_dataset() and is now ignored; it will be removed in a future version of xarray. If necessary, you can control the maximum number of simultaneous open files with xarray.set_options(file_cache_maxsize=...).\n",
      "  self.ray = xr.open_dataset(infile, autoclose=True)\n"
     ]
    }
   ],
   "source": [
    "try:\n",
    "    data.close()\n",
    "except:\n",
    "    pass\n",
    "data = rh15d.Rh15dout()"
   ]
  },
  {
   "cell_type": "code",
   "execution_count": 8,
   "metadata": {},
   "outputs": [
    {
     "data": {
      "application/vnd.jupyter.widget-view+json": {
       "model_id": "543526958ea74f6093b60254c284568e",
       "version_major": 2,
       "version_minor": 0
      },
      "text/plain": [
       "Canvas(toolbar=Toolbar(toolitems=[('Home', 'Reset original view', 'home', 'home'), ('Back', 'Back to previous …"
      ]
     },
     "metadata": {},
     "output_type": "display_data"
    }
   ],
   "source": [
    "fig, ax = plt.subplots()\n",
    "data.ray.intensity.plot()\n",
    "\n",
    "\n",
    "ax.plot([wl_ha, wl_ha], [np.min(data.ray.intensity), np.max(data.ray.intensity)], \"--\", label=r\"H$\\alpha$ = %.1f nm\" % wl_ha)\n",
    "ax.legend()\n",
    "#ax.set_yscale(\"log\")\n",
    "ax.set_xlim([wl_ha-0.5, wl_ha+0.5]);"
   ]
  },
  {
   "cell_type": "markdown",
   "metadata": {},
   "source": [
    "We note that there are fainter H$_{\\alpha}$ line with a slight redshifting."
   ]
  },
  {
   "cell_type": "code",
   "execution_count": 9,
   "metadata": {},
   "outputs": [
    {
     "data": {
      "text/plain": [
       "<xarray.Dataset>\n",
       "Dimensions:          (height: 82, level: 6, phony_dim_4: 5, phony_dim_5: 10, x: 1, y: 1)\n",
       "Coordinates:\n",
       "  * x                (x) float64 0.0\n",
       "  * y                (y) float64 0.0\n",
       "Dimensions without coordinates: height, level, phony_dim_4, phony_dim_5\n",
       "Data variables:\n",
       "    continuum        (phony_dim_4) uint32 ...\n",
       "    line             (phony_dim_5) uint32 ...\n",
       "    populations      (level, x, y, height) float32 ...\n",
       "    populations_LTE  (level, x, y, height) float32 ...\n",
       "Attributes:\n",
       "    nlevel:      6\n",
       "    nline:       10\n",
       "    ncontinuum:  5"
      ]
     },
     "execution_count": 9,
     "metadata": {},
     "output_type": "execute_result"
    }
   ],
   "source": [
    "data.atom_H"
   ]
  },
  {
   "cell_type": "code",
   "execution_count": 10,
   "metadata": {},
   "outputs": [
    {
     "data": {
      "application/vnd.jupyter.widget-view+json": {
       "model_id": "8621351827694d48acde8eb11485c74c",
       "version_major": 2,
       "version_minor": 0
      },
      "text/plain": [
       "Canvas(toolbar=Toolbar(toolitems=[('Home', 'Reset original view', 'home', 'home'), ('Back', 'Back to previous …"
      ]
     },
     "metadata": {},
     "output_type": "display_data"
    }
   ],
   "source": [
    "fig_pop, (ax_pop1, ax_pop2) = plt.subplots(1,2)\n",
    "tot_populations = data.atom_H.nlevel\n",
    "dep_coeff = data.atom_H.populations / data.atom_H.populations_LTE\n",
    "\n",
    "for i in range(tot_populations):\n",
    "    data.atom_H.populations[i].plot(label=\"level %i\" % (data.atom_H.level[i]), ax=ax_pop1)\n",
    "    ax_pop2.plot(data.atom_H.height, dep_coeff[i,0,0], label=\"Level %i\" % (data.atom_H.level[i]))\n",
    "\n",
    "ax_pop1.legend()\n",
    "ax_pop1.set_yscale(\"log\")\n",
    "ax_pop1.grid()\n",
    "\n",
    "\n",
    "ax_pop2.legend()\n",
    "ax_pop2.set_yscale(\"log\")\n",
    "ax_pop2.set_ylabel(\"Departure coefficient\")\n",
    "ax_pop2.grid()\n"
   ]
  },
  {
   "cell_type": "markdown",
   "metadata": {},
   "source": [
    "It is clear that level 0 has the largest population at greater heights. This is not the case for the innemorst location (closest to the core). At this point, level 1 population has largest. Note that the population axis are log-scaled. Level 0 has the strongest departure as we see from the plot to the right.\n",
    "\n",
    "Everything above this point are result running in NLTE (`../rh15d_ray`). Now we will study the results running in LTE (`../rh15d_lteray`) instead."
   ]
  },
  {
   "cell_type": "code",
   "execution_count": 11,
   "metadata": {},
   "outputs": [],
   "source": [
    "import xarray as xr\n",
    "\n",
    "try:\n",
    "    data_NLTE.close()\n",
    "    data_LTE.close()\n",
    "except:\n",
    "    None\n",
    "    \n",
    "data_NLTE = xr.open_dataset(\"output_ray_NLTE.hdf5\")    # renamed outfile file\n",
    "data_LTE = xr.open_dataset(\"output_ray_LTE.hdf5\")      # renamed outfile file\n"
   ]
  },
  {
   "cell_type": "code",
   "execution_count": 12,
   "metadata": {},
   "outputs": [
    {
     "data": {
      "application/vnd.jupyter.widget-view+json": {
       "model_id": "ba95cb4def8647e7abcce148811b9c6c",
       "version_major": 2,
       "version_minor": 0
      },
      "text/plain": [
       "Canvas(toolbar=Toolbar(toolitems=[('Home', 'Reset original view', 'home', 'home'), ('Back', 'Back to previous …"
      ]
     },
     "metadata": {},
     "output_type": "display_data"
    }
   ],
   "source": [
    "fig_both, ax_both = plt.subplots()\n",
    "data_NLTE.intensity.plot(label=\"NLTE\")\n",
    "data_LTE.intensity.plot(label=\"LTE\")\n",
    "ax_both.plot([wl_ha, wl_ha], [np.min(data.ray.intensity), 1.7*np.max(data.ray.intensity)], \"--\", label=r\"H$\\alpha$ = %.1f nm\" % wl_ha)\n",
    "ax_both.legend()\n",
    "ax_both.set_xlim([wl_ha-0.5, wl_ha+0.5]);"
   ]
  },
  {
   "cell_type": "markdown",
   "metadata": {},
   "source": [
    "There is a clear difference from the H$_{\\alpha}$ lines in LTE and NLTE. In the case of LTE, the intensity of the ray increases at this specific line through the atmosphere while the opposite occurs in the case of NLTE. A possible explanation for this might be because of the dominance of scattering and absoprtion in the NLTE case and emission dominance in LTE.\n",
    "\n",
    "Next we want to know how many iteration that was needed for convergence. We will go back using the parameter `data` defined earlier so that NLTE is used."
   ]
  },
  {
   "cell_type": "code",
   "execution_count": 13,
   "metadata": {},
   "outputs": [
    {
     "data": {
      "application/vnd.jupyter.widget-view+json": {
       "model_id": "bdec70e501284979a180b67e82f71b69",
       "version_major": 2,
       "version_minor": 0
      },
      "text/plain": [
       "Canvas(toolbar=Toolbar(toolitems=[('Home', 'Reset original view', 'home', 'home'), ('Back', 'Back to previous …"
      ]
     },
     "metadata": {},
     "output_type": "display_data"
    }
   ],
   "source": [
    "fig_conv, ax_conv = plt.subplots()\n",
    "data.mpi.delta_max_history.plot();"
   ]
  },
  {
   "cell_type": "markdown",
   "metadata": {},
   "source": [
    "It took 31 iterations for convergence to occur.\n",
    "\n",
    "Now changing the initial solution of H to `LTE_POPULATIONS`and run `../rh15d_ray` again."
   ]
  },
  {
   "cell_type": "code",
   "execution_count": 14,
   "metadata": {},
   "outputs": [],
   "source": [
    "# adjusts the 'atoms.inputs' file according to the exercise\n",
    "atoms_file = open(\"../atoms.input\", \"r\")\n",
    "new_atoms_file = open(\"../new_atoms.input\", \"w\")\n",
    "for line in atoms_file:\n",
    "    if \"H_6\" in line:\n",
    "        new_atoms_file.write(line.replace(\"ZERO_RADIATION\", \"LTE_POPULATIONS\"))\n",
    "    else:\n",
    "        new_atoms_file.write(line)\n",
    "atoms_file.close()\n",
    "new_atoms_file.close()\n",
    "\n",
    "copyfile(\"../new_atoms.input\", \"../atoms.input\");"
   ]
  },
  {
   "cell_type": "markdown",
   "metadata": {},
   "source": [
    "Renamed the output file to `output_ray_LTE_pop.hdf5`."
   ]
  },
  {
   "cell_type": "code",
   "execution_count": 15,
   "metadata": {},
   "outputs": [
    {
     "name": "stdout",
     "output_type": "stream",
     "text": [
      "--- Read ./output_LTE_pop/output_aux.hdf5 file.\n",
      "--- Read ./output_LTE_pop/output_indata.hdf5 file.\n",
      "--- Read ./output_LTE_pop/output_ray.hdf5 file.\n"
     ]
    },
    {
     "name": "stderr",
     "output_type": "stream",
     "text": [
      "/mn/stornext/u3/jonastf/.local/lib/python3.7/site-packages/helita-0.9.0-py3.7-linux-x86_64.egg/helita/sim/rh15d.py:40: FutureWarning: The autoclose argument is no longer used by xarray.open_dataset() and is now ignored; it will be removed in a future version of xarray. If necessary, you can control the maximum number of simultaneous open files with xarray.set_options(file_cache_maxsize=...).\n",
      "  setattr(self, g, xr.open_dataset(infile, group=g, autoclose=True))\n",
      "/mn/stornext/u3/jonastf/.local/lib/python3.7/site-packages/helita-0.9.0-py3.7-linux-x86_64.egg/helita/sim/rh15d.py:53: FutureWarning: The autoclose argument is no longer used by xarray.open_dataset() and is now ignored; it will be removed in a future version of xarray. If necessary, you can control the maximum number of simultaneous open files with xarray.set_options(file_cache_maxsize=...).\n",
      "  self.ray = xr.open_dataset(infile, autoclose=True)\n"
     ]
    }
   ],
   "source": [
    "try:\n",
    "    data_LTE_pop.close()\n",
    "except:\n",
    "    None\n",
    "    \n",
    "data_LTE_pop = rh15d.Rh15dout(\"./output_LTE_pop\")"
   ]
  },
  {
   "cell_type": "code",
   "execution_count": 16,
   "metadata": {},
   "outputs": [
    {
     "data": {
      "application/vnd.jupyter.widget-view+json": {
       "model_id": "dd68931127e34bdbbe05f69591688831",
       "version_major": 2,
       "version_minor": 0
      },
      "text/plain": [
       "Canvas(toolbar=Toolbar(toolitems=[('Home', 'Reset original view', 'home', 'home'), ('Back', 'Back to previous …"
      ]
     },
     "metadata": {},
     "output_type": "display_data"
    }
   ],
   "source": [
    "fig_conv_LTE_pop, ax_conv_LTE_pop = plt.subplots()\n",
    "\n",
    "data_LTE_pop.mpi.delta_max_history.plot(label=\"init=LTE_POP\")\n",
    "data.mpi.delta_max_history.plot(label=\"init=ZERO_RAD\")\n",
    "ax_conv_LTE_pop.legend();"
   ]
  },
  {
   "cell_type": "markdown",
   "metadata": {},
   "source": [
    "We observe that 126 iterations are needed when initial solution of H is set to LTE population. \n",
    "\n",
    "Trying to run RH with no acceleration for both initial solutions."
   ]
  },
  {
   "cell_type": "code",
   "execution_count": 17,
   "metadata": {},
   "outputs": [],
   "source": [
    "# adjusts the 'keyword.inputs' file according to the exercise\n",
    "keyword_file = open(\"../keyword.input\", \"r\")\n",
    "new_keyword_file = open(\"../new_keyword.input\", \"w\")\n",
    "for line in keyword_file:\n",
    "    if \"  NG_ORDER\" in line:\n",
    "        new_keyword_file.write(\"  NG_ORDER = 0\\n\")\n",
    "    else:\n",
    "        new_keyword_file.write(line)\n",
    "keyword_file.close()\n",
    "new_keyword_file.close()\n",
    "\n",
    "copyfile(\"../new_keyword.input\", \"../keyword.input\");"
   ]
  },
  {
   "cell_type": "code",
   "execution_count": 18,
   "metadata": {},
   "outputs": [
    {
     "name": "stdout",
     "output_type": "stream",
     "text": [
      "--- Read ./output_LTE_pop_no_acc/output_aux.hdf5 file.\n",
      "--- Read ./output_LTE_pop_no_acc/output_indata.hdf5 file.\n",
      "--- Read ./output_LTE_pop_no_acc/output_ray.hdf5 file.\n",
      "--- Read ./output_no_acc/output_aux.hdf5 file.\n",
      "--- Read ./output_no_acc/output_indata.hdf5 file.\n",
      "--- Read ./output_no_acc/output_ray.hdf5 file.\n"
     ]
    },
    {
     "name": "stderr",
     "output_type": "stream",
     "text": [
      "/mn/stornext/u3/jonastf/.local/lib/python3.7/site-packages/helita-0.9.0-py3.7-linux-x86_64.egg/helita/sim/rh15d.py:40: FutureWarning: The autoclose argument is no longer used by xarray.open_dataset() and is now ignored; it will be removed in a future version of xarray. If necessary, you can control the maximum number of simultaneous open files with xarray.set_options(file_cache_maxsize=...).\n",
      "  setattr(self, g, xr.open_dataset(infile, group=g, autoclose=True))\n",
      "/mn/stornext/u3/jonastf/.local/lib/python3.7/site-packages/helita-0.9.0-py3.7-linux-x86_64.egg/helita/sim/rh15d.py:53: FutureWarning: The autoclose argument is no longer used by xarray.open_dataset() and is now ignored; it will be removed in a future version of xarray. If necessary, you can control the maximum number of simultaneous open files with xarray.set_options(file_cache_maxsize=...).\n",
      "  self.ray = xr.open_dataset(infile, autoclose=True)\n"
     ]
    }
   ],
   "source": [
    "try:\n",
    "    data_no_acc.close()\n",
    "    data_no_acc_LTE_pop.close()\n",
    "except:\n",
    "    None\n",
    "\n",
    "\n",
    "data_no_acc_LTE_pop = rh15d.Rh15dout(\"./output_LTE_pop_no_acc/\")\n",
    "data_no_acc = rh15d.Rh15dout(\"./output_no_acc/\")"
   ]
  },
  {
   "cell_type": "code",
   "execution_count": 19,
   "metadata": {},
   "outputs": [
    {
     "data": {
      "application/vnd.jupyter.widget-view+json": {
       "model_id": "ae0a93eff0774ffea088b9f0e17e2f70",
       "version_major": 2,
       "version_minor": 0
      },
      "text/plain": [
       "Canvas(toolbar=Toolbar(toolitems=[('Home', 'Reset original view', 'home', 'home'), ('Back', 'Back to previous …"
      ]
     },
     "metadata": {},
     "output_type": "display_data"
    }
   ],
   "source": [
    "fig_no_acc, ax_no_acc = plt.subplots()\n",
    "\n",
    "data_no_acc_LTE_pop.mpi.delta_max_history.plot(label=\"init=LTE_POP\")\n",
    "data_no_acc.mpi.delta_max_history.plot(label=\"init=ZERO_RAD\")\n",
    "ax_no_acc.legend();"
   ]
  },
  {
   "cell_type": "markdown",
   "metadata": {},
   "source": [
    "Now we do not see the spikes. Also more iterations are needed when initial solution is set to zero radiation while less iterations are needed when initial solution is set to LTE population."
   ]
  },
  {
   "cell_type": "code",
   "execution_count": null,
   "metadata": {},
   "outputs": [],
   "source": []
  }
 ],
 "metadata": {
  "kernelspec": {
   "display_name": "Python 3",
   "language": "python",
   "name": "python3"
  },
  "language_info": {
   "codemirror_mode": {
    "name": "ipython",
    "version": 3
   },
   "file_extension": ".py",
   "mimetype": "text/x-python",
   "name": "python",
   "nbconvert_exporter": "python",
   "pygments_lexer": "ipython3",
   "version": "3.7.3"
  }
 },
 "nbformat": 4,
 "nbformat_minor": 4
}
