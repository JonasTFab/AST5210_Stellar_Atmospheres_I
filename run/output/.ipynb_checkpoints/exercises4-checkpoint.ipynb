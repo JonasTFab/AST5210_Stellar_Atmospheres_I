{
 "cells": [
  {
   "cell_type": "markdown",
   "metadata": {},
   "source": [
    "# Exercises in AST5210 using the RH code\n",
    "\n",
    "Exercices from https://tiagopereira.space/ast5210/MgII_formation/.\n",
    "\n",
    "---------------------"
   ]
  },
  {
   "cell_type": "markdown",
   "metadata": {},
   "source": [
    "First we modify the files according to the exercise descirption."
   ]
  },
  {
   "cell_type": "code",
   "execution_count": 1,
   "metadata": {},
   "outputs": [],
   "source": [
    "%matplotlib ipympl\n",
    "import numpy as np\n",
    "import matplotlib.pyplot as plt\n",
    "from helita.sim import rh15d\n",
    "from helita.vis import rh15d_vis\n",
    "from shutil import copyfile\n",
    "\n",
    "wl_ha = 656.28                            # nm (wavelength of H_alpha, from wikipedia)\n",
    "wl_caII_H = 393.37                       # nm (wavelength of Ca II H)\n",
    "\n",
    "\n",
    "# 'resets' files to originals from 'run_example' folder\n",
    "copyfile(\"../og_atoms.input\", \"../atoms.input\")\n",
    "copyfile(\"../og_keyword.input\", \"../keyword.input\");"
   ]
  },
  {
   "cell_type": "code",
   "execution_count": 2,
   "metadata": {},
   "outputs": [
    {
     "data": {
      "text/plain": [
       "'../atoms.input'"
      ]
     },
     "execution_count": 2,
     "metadata": {},
     "output_type": "execute_result"
    }
   ],
   "source": [
    "# adjusts the 'atoms.inputs' file according to the exercise\n",
    "atoms_file = open(\"../atoms.input\", \"r\")\n",
    "new_atoms_file = open(\"../new_atoms.input\", \"w\")\n",
    "\n",
    "change_nmetal = False\n",
    "for line in atoms_file:\n",
    "    if \"# Nmetal\" in line:\n",
    "        change_nmetal = True\n",
    "        new_atoms_file.write(line)\n",
    "    elif change_nmetal:\n",
    "        new_atoms_file.write(\"  10 \\n\")\n",
    "        change_nmetal = False\n",
    "    \n",
    "    elif \"H_6.atom\" in line:\n",
    "        H_line = line\n",
    "        H_line = H_line.replace(\"ACTIVE\", \" PASSIVE\")\n",
    "        H_line = H_line.replace(\"pops.H.out\", \"\")\n",
    "        new_atoms_file.write(H_line)\n",
    "    elif \"CaII.atom\" in line:\n",
    "        # Removing this atom from file as it is re-added later\n",
    "        pass\n",
    "    \n",
    "    else:\n",
    "        new_atoms_file.write(line)\n",
    "\n",
    "\n",
    "\n",
    "# adding additional atoms to 'atoms.input' file\n",
    "if \"S.atom\" not in line:\n",
    "    new_atoms_file.write(\"  ../../Atoms/MgII-IRIS.atom        ACTIVE    ZERO_RADIATION   \\n\")\n",
    "    new_atoms_file.write(\"  ../../Atoms/CaII_PRD.atom        PASSIVE    ZERO_RADIATION   \\n\")\n",
    "    new_atoms_file.write(\"  ../../Atoms/Si.atom              PASSIVE   LTE_POPULATIONS   \\n\")\n",
    "    new_atoms_file.write(\"  ../../Atoms/Al.atom              PASSIVE   LTE_POPULATIONS   \\n\")\n",
    "    new_atoms_file.write(\"  ../../Atoms/Fe.atom              PASSIVE   LTE_POPULATIONS   \\n\")\n",
    "    new_atoms_file.write(\"  ../../Atoms/He.atom              PASSIVE   LTE_POPULATIONS   \\n\")\n",
    "    new_atoms_file.write(\"  ../../Atoms/N.atom               PASSIVE   LTE_POPULATIONS   \\n\")\n",
    "    new_atoms_file.write(\"  ../../Atoms/Na.atom              PASSIVE   LTE_POPULATIONS   \\n\")\n",
    "    new_atoms_file.write(\"  ../../Atoms/S.atom               PASSIVE   LTE_POPULATIONS   \\n\")\n",
    "\n",
    "    \n",
    "\n",
    "atoms_file.close()\n",
    "new_atoms_file.close()\n",
    "\n",
    "copyfile(\"../new_atoms.input\", \"../atoms.input\");"
   ]
  },
  {
   "cell_type": "markdown",
   "metadata": {},
   "source": [
    "Creating the very simple `ray.input` file and adjust the `keyword.input` file."
   ]
  },
  {
   "cell_type": "code",
   "execution_count": 3,
   "metadata": {},
   "outputs": [],
   "source": [
    "f = open(\"../ray.input\", \"w\")\n",
    "f.write(\"1.00\\n0\")\n",
    "f.close()\n",
    "\n",
    "# adjusts the 'keyword.inputs' file according to the exercise\n",
    "keyword_file = open(\"../keyword.input\", \"r\")\n",
    "new_keyword_file = open(\"../new_keyword.input\", \"w\")\n",
    "for line in keyword_file:\n",
    "    if \"15D_WRITE_POPS\" in line:\n",
    "        new_keyword_file.write(line.replace(\"FALSE\", \"TRUE\"))\n",
    "    elif \"  PRD_N_MAX_ITER\" in line:\n",
    "        new_keyword_file.write(\"  PRD_N_MAX_ITER = 3\\n\")\n",
    "    else:\n",
    "        new_keyword_file.write(line)\n",
    "\n",
    "keyword_file.close()\n",
    "new_keyword_file.close()\n",
    "\n",
    "copyfile(\"../new_keyword.input\", \"../keyword.input\");"
   ]
  },
  {
   "cell_type": "markdown",
   "metadata": {},
   "source": [
    "Now running the RH code from terminal."
   ]
  },
  {
   "cell_type": "code",
   "execution_count": 4,
   "metadata": {},
   "outputs": [
    {
     "name": "stdout",
     "output_type": "stream",
     "text": [
      "--- Read ./output_aux.hdf5 file.\n",
      "--- Read ./output_indata.hdf5 file.\n",
      "--- Read ./output_ray.hdf5 file.\n"
     ]
    },
    {
     "name": "stderr",
     "output_type": "stream",
     "text": [
      "/mn/stornext/u3/jonastf/.local/lib/python3.7/site-packages/helita-0.9.0-py3.7-linux-x86_64.egg/helita/sim/rh15d.py:40: FutureWarning: The autoclose argument is no longer used by xarray.open_dataset() and is now ignored; it will be removed in a future version of xarray. If necessary, you can control the maximum number of simultaneous open files with xarray.set_options(file_cache_maxsize=...).\n",
      "  setattr(self, g, xr.open_dataset(infile, group=g, autoclose=True))\n",
      "/mn/stornext/u3/jonastf/.local/lib/python3.7/site-packages/helita-0.9.0-py3.7-linux-x86_64.egg/helita/sim/rh15d.py:53: FutureWarning: The autoclose argument is no longer used by xarray.open_dataset() and is now ignored; it will be removed in a future version of xarray. If necessary, you can control the maximum number of simultaneous open files with xarray.set_options(file_cache_maxsize=...).\n",
      "  self.ray = xr.open_dataset(infile, autoclose=True)\n"
     ]
    }
   ],
   "source": [
    "try:\n",
    "    data.close()\n",
    "except:\n",
    "    pass\n",
    "\n",
    "data = rh15d.Rh15dout()"
   ]
  },
  {
   "cell_type": "code",
   "execution_count": 33,
   "metadata": {},
   "outputs": [
    {
     "data": {
      "application/vnd.jupyter.widget-view+json": {
       "model_id": "f310eac577174fd5a46f75c263280de1",
       "version_major": 2,
       "version_minor": 0
      },
      "text/plain": [
       "Canvas(toolbar=Toolbar(toolitems=[('Home', 'Reset original view', 'home', 'home'), ('Back', 'Back to previous …"
      ]
     },
     "metadata": {},
     "output_type": "display_data"
    },
    {
     "name": "stdout",
     "output_type": "stream",
     "text": [
      "Wavelength points:  902\n"
     ]
    }
   ],
   "source": [
    "fig_ray, ax_ray = plt.subplots()\n",
    "data.ray.intensity.plot()\n",
    "ax_ray.set_xlim(279, 280.5)\n",
    "ax_ray.set_ylim(-1e-9, 3e-9)\n",
    "\n",
    "print(\"Wavelength points: \", len(data.ray.intensity.wavelength))"
   ]
  },
  {
   "cell_type": "markdown",
   "metadata": {},
   "source": [
    "The plot above show the intensities near the Mg II lines. The intensity has a total number of 902 wavelength points. Will now use another wavelength table file that was unpacked from the `rh_ast5210.tar.bz2` file."
   ]
  },
  {
   "cell_type": "code",
   "execution_count": 34,
   "metadata": {},
   "outputs": [],
   "source": [
    "keyword_file = open(\"../keyword.input\", \"r\")\n",
    "new_keyword_file = open(\"../new_keyword.input\", \"w\")\n",
    "for line in keyword_file:\n",
    "    if \"WAVETABLE\" in line:\n",
    "        new_keyword_file.write(\"WAVETABLE = ../../Atoms/wave_files/IRIS_NUV_full.wave\\n\")\n",
    "    else:\n",
    "        new_keyword_file.write(line)\n",
    "\n",
    "keyword_file.close()\n",
    "new_keyword_file.close()\n",
    "\n",
    "copyfile(\"../new_keyword.input\", \"../keyword.input\");"
   ]
  },
  {
   "cell_type": "markdown",
   "metadata": {},
   "source": [
    "Running RH code again."
   ]
  },
  {
   "cell_type": "code",
   "execution_count": 36,
   "metadata": {},
   "outputs": [
    {
     "name": "stdout",
     "output_type": "stream",
     "text": [
      "--- Read ./output_aux.hdf5 file.\n",
      "--- Read ./output_indata.hdf5 file.\n",
      "--- Read ./output_ray.hdf5 file.\n",
      "Wavelength points:  2694\n"
     ]
    }
   ],
   "source": [
    "try:\n",
    "    data.close()\n",
    "except:\n",
    "    pass\n",
    "\n",
    "data = rh15d.Rh15dout()\n",
    "print(\"Wavelength points: \", len(data.ray.intensity.wavelength))"
   ]
  },
  {
   "cell_type": "markdown",
   "metadata": {},
   "source": [
    "Using the new wavelength table resulted in greater amount of wavelength points. Also the RH code used approximately twice the time to run becuase of this. To read an existing wavelength file, we use a function that the helita module provide."
   ]
  },
  {
   "cell_type": "code",
   "execution_count": 76,
   "metadata": {},
   "outputs": [
    {
     "name": "stdout",
     "output_type": "stream",
     "text": [
      "Wavelengths in the domain:       [278.255, 283.397]\n",
      "Total wavelengths:                   1792\n",
      "Mean wavelength separation:       0.00287\n"
     ]
    }
   ],
   "source": [
    "IRIS_wave = rh15d.read_wave_file(\"../../../Atoms/wave_files/IRIS_NUV_full.wave\")\n",
    "wave_sep = np.mean(IRIS_wave[1:] - IRIS_wave[:-1])\n",
    "\n",
    "print(\"Wavelengths in the domain:       [%.3f, %.3f]\" % (IRIS_wave.min(), IRIS_wave.max()))\n",
    "print(\"Total wavelengths:                  \", len(IRIS_wave))\n",
    "print(\"Mean wavelength separation:       %.5f\" % wave_sep)"
   ]
  },
  {
   "cell_type": "markdown",
   "metadata": {},
   "source": [
    "Now we create a new wavelength file. The file will include wavelenghts that cover the IRIS file but with a spacing of 0.001 nm."
   ]
  },
  {
   "cell_type": "code",
   "execution_count": 64,
   "metadata": {},
   "outputs": [
    {
     "name": "stdout",
     "output_type": "stream",
     "text": [
      "Wrote 5142 wavelengths to file.\n"
     ]
    }
   ],
   "source": [
    "rh15d.make_wave_file(\"../wavelength_files/adjusted_IRIS.wave\", IRIS_wave.min(), IRIS_wave.max(), 0.001, air=False)"
   ]
  },
  {
   "cell_type": "code",
   "execution_count": null,
   "metadata": {},
   "outputs": [],
   "source": [
    "keyword_file = open(\"../keyword.input\", \"r\")\n",
    "new_keyword_file = open(\"../new_keyword.input\", \"w\")\n",
    "for line in keyword_file:\n",
    "    if \"WAVETABLE\" in line:\n",
    "        new_keyword_file.write(\"WAVETABLE = wavelength_files/adjusted_IRIS.wave\\n\")\n",
    "    else:\n",
    "        new_keyword_file.write(line)\n",
    "\n",
    "keyword_file.close()\n",
    "new_keyword_file.close()\n",
    "\n",
    "copyfile(\"../new_keyword.input\", \"../keyword.input\");"
   ]
  },
  {
   "cell_type": "markdown",
   "metadata": {},
   "source": [
    "Run RH code using these wavelengths. It will now take some time. The process can bu watched by looking at the .log file within the `scratch` folder located in `run`. This is done by running `tail -f output/scratch/rh_p0.log` in the terminal."
   ]
  },
  {
   "cell_type": "code",
   "execution_count": null,
   "metadata": {},
   "outputs": [],
   "source": []
  }
 ],
 "metadata": {
  "kernelspec": {
   "display_name": "Python 3",
   "language": "python",
   "name": "python3"
  },
  "language_info": {
   "codemirror_mode": {
    "name": "ipython",
    "version": 3
   },
   "file_extension": ".py",
   "mimetype": "text/x-python",
   "name": "python",
   "nbconvert_exporter": "python",
   "pygments_lexer": "ipython3",
   "version": "3.7.3"
  }
 },
 "nbformat": 4,
 "nbformat_minor": 4
}
