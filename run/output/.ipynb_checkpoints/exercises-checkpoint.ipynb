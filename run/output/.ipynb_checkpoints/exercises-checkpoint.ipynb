{
 "cells": [
  {
   "cell_type": "markdown",
   "metadata": {},
   "source": [
    "# Exercises in AST5210 using the RH code\n",
    "\n",
    "Exercices from https://tiagopereira.space/ast5210/running/.\n",
    "\n",
    "-------------------"
   ]
  },
  {
   "cell_type": "markdown",
   "metadata": {},
   "source": [
    "Running `rh15d_ray_pool` without calling the `mpiexec` or `mpirun` compiler results in a error. Executing this binary requires to be run on more than one process. One example of running this binary goes as follows; `mpiexec ../rh15d_ray_pool` executed from the terminal window. Note that you must be in the 'run' folder when executing.\n",
    "\n",
    "You can run both `rh15d_ray` and `rh15d_lteray` using a single process.\n",
    "\n",
    "### Exploring the output files\n",
    "\n",
    "From the 'run' folder, executing `ncdump -h output/output_***.hdf5`where `***` is replaced with either `aux`, `indata` or `ray` shows additional result from the above execution. From this exercise, we observe from all three output files that we are looking at a single column of atmopshere with 82 points in the vertical direction. That is (nx,ny,nz) = (1,1,82).\n",
    "\n",
    "### Using jupyter lab to explore data"
   ]
  },
  {
   "cell_type": "code",
   "execution_count": 42,
   "metadata": {},
   "outputs": [],
   "source": [
    "%matplotlib ipympl\n",
    "import numpy as np\n",
    "import matplotlib.pyplot as plt\n",
    "from helita.sim import rh15d\n",
    "from helita.vis import rh15d_vis\n",
    "from shutil import copyfile\n",
    "\n",
    "FALC_atmos = \"Atmos/FALC_82_5x5.hdf5\"\n",
    "Bifrost_atmos = \"/Atmos/bifrost_cb24bih_s385_cut.hdf5\"\n",
    "\n",
    "# 'resets' files to originals from 'run_example' folder\n",
    "copyfile(\"../og_atoms.input\", \"../atoms.input\")\n",
    "copyfile(\"../og_keyword.input\", \"../keyword.input\");"
   ]
  },
  {
   "cell_type": "markdown",
   "metadata": {},
   "source": [
    "Make sure to run the RH code before continuing so that we get correct outputs from this point."
   ]
  },
  {
   "cell_type": "code",
   "execution_count": 43,
   "metadata": {},
   "outputs": [
    {
     "data": {
      "application/vnd.jupyter.widget-view+json": {
       "model_id": "e8bdfc01aa71494f99fa55ec218fa3f6",
       "version_major": 2,
       "version_minor": 0
      },
      "text/plain": [
       "Canvas(toolbar=Toolbar(toolitems=[('Home', 'Reset original view', 'home', 'home'), ('Back', 'Back to previous …"
      ]
     },
     "metadata": {},
     "output_type": "display_data"
    },
    {
     "data": {
      "application/vnd.jupyter.widget-view+json": {
       "model_id": "c609cb9d96554240928b2498edb1ff83",
       "version_major": 2,
       "version_minor": 0
      },
      "text/plain": [
       "interactive(children=(IntSlider(value=0, description='x', max=4), IntSlider(value=0, description='y', max=4), …"
      ]
     },
     "metadata": {},
     "output_type": "display_data"
    }
   ],
   "source": [
    "rh15d_vis.InputAtmosphere(\"../../../\" + FALC_atmos);   # FALC atmosphere are used in these exercises\n",
    "#rh15d_vis.InputAtmosphere(\"../../../\" + Bifrost_atmos);"
   ]
  },
  {
   "cell_type": "code",
   "execution_count": 44,
   "metadata": {},
   "outputs": [
    {
     "name": "stdout",
     "output_type": "stream",
     "text": [
      "--- Read ./output_aux.hdf5 file.\n",
      "--- Read ./output_indata.hdf5 file.\n",
      "--- Read ./output_ray.hdf5 file.\n"
     ]
    },
    {
     "name": "stderr",
     "output_type": "stream",
     "text": [
      "/mn/stornext/u3/jonastf/.local/lib/python3.7/site-packages/helita-0.9.0-py3.7-linux-x86_64.egg/helita/sim/rh15d.py:40: FutureWarning: The autoclose argument is no longer used by xarray.open_dataset() and is now ignored; it will be removed in a future version of xarray. If necessary, you can control the maximum number of simultaneous open files with xarray.set_options(file_cache_maxsize=...).\n",
      "  setattr(self, g, xr.open_dataset(infile, group=g, autoclose=True))\n",
      "/mn/stornext/u3/jonastf/.local/lib/python3.7/site-packages/helita-0.9.0-py3.7-linux-x86_64.egg/helita/sim/rh15d.py:53: FutureWarning: The autoclose argument is no longer used by xarray.open_dataset() and is now ignored; it will be removed in a future version of xarray. If necessary, you can control the maximum number of simultaneous open files with xarray.set_options(file_cache_maxsize=...).\n",
      "  self.ray = xr.open_dataset(infile, autoclose=True)\n"
     ]
    }
   ],
   "source": [
    "try:\n",
    "    data.close()\n",
    "except:\n",
    "    print(\"'data' has not been defined.\")\n",
    "\n",
    "data = rh15d.Rh15dout()"
   ]
  },
  {
   "cell_type": "code",
   "execution_count": 45,
   "metadata": {},
   "outputs": [
    {
     "data": {
      "application/vnd.jupyter.widget-view+json": {
       "model_id": "4cd655ec8eeb46b0941ca99a4e6e07ce",
       "version_major": 2,
       "version_minor": 0
      },
      "text/plain": [
       "Canvas(toolbar=Toolbar(toolitems=[('Home', 'Reset original view', 'home', 'home'), ('Back', 'Back to previous …"
      ]
     },
     "metadata": {},
     "output_type": "display_data"
    }
   ],
   "source": [
    "fig_i, ax_i = plt.subplots()\n",
    "data.ray.intensity.plot();"
   ]
  },
  {
   "cell_type": "code",
   "execution_count": null,
   "metadata": {},
   "outputs": [],
   "source": []
  }
 ],
 "metadata": {
  "kernelspec": {
   "display_name": "Python 3",
   "language": "python",
   "name": "python3"
  },
  "language_info": {
   "codemirror_mode": {
    "name": "ipython",
    "version": 3
   },
   "file_extension": ".py",
   "mimetype": "text/x-python",
   "name": "python",
   "nbconvert_exporter": "python",
   "pygments_lexer": "ipython3",
   "version": "3.7.3"
  }
 },
 "nbformat": 4,
 "nbformat_minor": 4
}
